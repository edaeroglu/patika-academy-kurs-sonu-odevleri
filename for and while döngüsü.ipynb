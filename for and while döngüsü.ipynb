{
 "cells": [
  {
   "cell_type": "markdown",
   "id": "nVc--o_bFOVC",
   "metadata": {
    "id": "nVc--o_bFOVC"
   },
   "source": [
    "# ders 3"
   ]
  },
  {
   "cell_type": "markdown",
   "id": "lBzj3MK9FOVE",
   "metadata": {
    "id": "lBzj3MK9FOVE"
   },
   "source": [
    "## for döngüsü"
   ]
  },
  {
   "cell_type": "markdown",
   "id": "VxxNtxmzFOVF",
   "metadata": {
    "id": "VxxNtxmzFOVF"
   },
   "source": [
    "### in"
   ]
  },
  {
   "cell_type": "code",
   "execution_count": 2,
   "id": "4aa75c8c-7eff-47e2-a46c-3314282a1310",
   "metadata": {},
   "outputs": [
    {
     "name": "stdout",
     "output_type": "stream",
     "text": [
      "0\n",
      "7\n",
      "14\n",
      "21\n",
      "28\n",
      "35\n",
      "42\n",
      "49\n"
     ]
    }
   ],
   "source": [
    "for i in range(50):\n",
    "    if i%7 ==0:\n",
    "        print(i)"
   ]
  },
  {
   "cell_type": "code",
   "execution_count": 7,
   "id": "99e2ae87-8d6e-4baf-ad53-644f9c945830",
   "metadata": {},
   "outputs": [
    {
     "name": "stdout",
     "output_type": "stream",
     "text": [
      "0\n",
      "2\n",
      "4\n",
      "6\n",
      "8\n"
     ]
    }
   ],
   "source": [
    "x=0\n",
    "toplam=0\n",
    "while x<10:\n",
    "    if x%2==0:\n",
    "        print (x)\n",
    "    x+=1"
   ]
  },
  {
   "cell_type": "code",
   "execution_count": 5,
   "id": "7b120b28-89b6-4c91-b1da-db9f77e7e34f",
   "metadata": {},
   "outputs": [
    {
     "data": {
      "text/plain": [
       "20"
      ]
     },
     "execution_count": 5,
     "metadata": {},
     "output_type": "execute_result"
    }
   ],
   "source": [
    "x=0\n",
    "toplam=0\n",
    "while x<10:\n",
    "    if x%2==0:\n",
    "        toplam += x\n",
    "    x+=1\n",
    "toplam\n"
   ]
  },
  {
   "cell_type": "code",
   "execution_count": 3,
   "id": "4dfcc4a0-74ad-4e40-8233-406f9353f261",
   "metadata": {},
   "outputs": [
    {
     "data": {
      "text/plain": [
       "120"
      ]
     },
     "execution_count": 3,
     "metadata": {},
     "output_type": "execute_result"
    }
   ],
   "source": [
    "x=0\n",
    "toplam=0\n",
    "while x<10:\n",
    "    if x%2==0:\n",
    "        toplam = toplam +(x*x)\n",
    "    x+=1\n",
    "toplam "
   ]
  },
  {
   "cell_type": "code",
   "execution_count": 8,
   "id": "acbd31fa-625d-463b-b06e-11b2144f87c9",
   "metadata": {},
   "outputs": [
    {
     "data": {
      "text/plain": [
       "63.75"
      ]
     },
     "execution_count": 8,
     "metadata": {},
     "output_type": "execute_result"
    }
   ],
   "source": [
    "notlar=[45,85,75,50]\n",
    "toplam =0\n",
    "for i in notlar:\n",
    "    toplam += i\n",
    "ortalama = toplam/len(notlar)   \n",
    "ortalama"
   ]
  },
  {
   "cell_type": "code",
   "execution_count": 13,
   "id": "bb6e4cc7-028a-4c6f-9d8c-f6c747f6716b",
   "metadata": {},
   "outputs": [
    {
     "data": {
      "text/plain": [
       "6"
      ]
     },
     "execution_count": 13,
     "metadata": {},
     "output_type": "execute_result"
    }
   ],
   "source": [
    "def topla(x):\n",
    "    toplam = 0\n",
    "    for i in range(x):\n",
    "        toplam += i\n",
    "    return toplam\n",
    "\n",
    "toplam(4)"
   ]
  },
  {
   "cell_type": "code",
   "execution_count": null,
   "id": "DLDDoo93FOVG",
   "metadata": {
    "colab": {
     "base_uri": "https://localhost:8080/"
    },
    "id": "DLDDoo93FOVG",
    "outputId": "d1e60821-5aa6-4c0d-d6f8-37e0707d043e"
   },
   "outputs": [
    {
     "data": {
      "text/plain": [
       "True"
      ]
     },
     "execution_count": 1,
     "metadata": {},
     "output_type": "execute_result"
    }
   ],
   "source": [
    "\"a\" in \"merhaba\""
   ]
  },
  {
   "cell_type": "code",
   "execution_count": null,
   "id": "74B-A9-UFOVG",
   "metadata": {
    "id": "74B-A9-UFOVG"
   },
   "outputs": [],
   "source": [
    "\"mer\" in \"merhaba\""
   ]
  },
  {
   "cell_type": "code",
   "execution_count": null,
   "id": "WhXRC8_EFOVH",
   "metadata": {
    "colab": {
     "base_uri": "https://localhost:8080/"
    },
    "id": "WhXRC8_EFOVH",
    "outputId": "15bf3bec-86ee-4332-9ff7-2291a5a9d072"
   },
   "outputs": [
    {
     "data": {
      "text/plain": [
       "True"
      ]
     },
     "execution_count": 2,
     "metadata": {},
     "output_type": "execute_result"
    }
   ],
   "source": [
    "4 in [1,2,3,4]"
   ]
  },
  {
   "cell_type": "code",
   "execution_count": null,
   "id": "iyGJUbdzFOVH",
   "metadata": {
    "id": "iyGJUbdzFOVH"
   },
   "outputs": [],
   "source": [
    "list1= [1,2,3,4]\n",
    "1 in list1"
   ]
  },
  {
   "cell_type": "code",
   "execution_count": null,
   "id": "ONY_rmZEFOVH",
   "metadata": {
    "id": "ONY_rmZEFOVH"
   },
   "outputs": [],
   "source": [
    "10 in [1,2,3]"
   ]
  },
  {
   "cell_type": "markdown",
   "id": "sRhrBmJRFOVH",
   "metadata": {
    "id": "sRhrBmJRFOVH"
   },
   "source": [
    "### for"
   ]
  },
  {
   "cell_type": "code",
   "execution_count": null,
   "id": "Iw08MbL1FOVI",
   "metadata": {
    "colab": {
     "base_uri": "https://localhost:8080/"
    },
    "id": "Iw08MbL1FOVI",
    "outputId": "e55e80b0-7c81-461c-9bd1-a5ce577b1aa4"
   },
   "outputs": [
    {
     "name": "stdout",
     "output_type": "stream",
     "text": [
      "15\n",
      "1\n",
      "2\n",
      "3\n",
      "4\n",
      "5\n",
      "6\n",
      "7\n",
      "8\n",
      "9\n"
     ]
    }
   ],
   "source": [
    "list1= [15,1,2,3,4,5,6,7,8,9]\n",
    "\n",
    "for i in list1:\n",
    "    print(i)"
   ]
  },
  {
   "cell_type": "code",
   "execution_count": null,
   "id": "I6TSgfaNFOVI",
   "metadata": {
    "id": "I6TSgfaNFOVI"
   },
   "outputs": [],
   "source": [
    "for i in \"hello\":\n",
    "    print(i)"
   ]
  },
  {
   "cell_type": "code",
   "execution_count": null,
   "id": "OXiWkpCeFOVI",
   "metadata": {
    "id": "OXiWkpCeFOVI"
   },
   "outputs": [],
   "source": [
    "for i in \"hello\":\n",
    "    print(y)"
   ]
  },
  {
   "cell_type": "code",
   "execution_count": null,
   "id": "04v608wTFOVI",
   "metadata": {
    "colab": {
     "base_uri": "https://localhost:8080/"
    },
    "id": "04v608wTFOVI",
    "outputId": "e5f34e66-e89c-4740-8553-e0eaf2878d19"
   },
   "outputs": [
    {
     "name": "stdout",
     "output_type": "stream",
     "text": [
      "PPP\n",
      "yyy\n",
      "ttt\n",
      "hhh\n",
      "ooo\n",
      "nnn\n"
     ]
    }
   ],
   "source": [
    "\n",
    "for i in \"Python\":\n",
    "    print(i*3)"
   ]
  },
  {
   "cell_type": "code",
   "execution_count": null,
   "id": "hzxIsZ6VFOVI",
   "metadata": {
    "colab": {
     "base_uri": "https://localhost:8080/"
    },
    "id": "hzxIsZ6VFOVI",
    "outputId": "c8abf0cd-649d-40f8-9395-e3c38f255c9a"
   },
   "outputs": [
    {
     "name": "stdout",
     "output_type": "stream",
     "text": [
      "45\n",
      "3\n",
      "6\n",
      "9\n",
      "12\n",
      "15\n",
      "18\n",
      "21\n",
      "24\n",
      "27\n"
     ]
    }
   ],
   "source": [
    "#list1in içindeki değerleri 3 ile çarpan döngü\n",
    "for i in list1:\n",
    "    print(i*3)"
   ]
  },
  {
   "cell_type": "code",
   "execution_count": null,
   "id": "usfRGc62FOVJ",
   "metadata": {
    "colab": {
     "base_uri": "https://localhost:8080/"
    },
    "id": "usfRGc62FOVJ",
    "outputId": "92e8251d-1b12-45c2-fb92-aae5112959ca"
   },
   "outputs": [
    {
     "name": "stdout",
     "output_type": "stream",
     "text": [
      "225\n",
      "1\n",
      "4\n",
      "9\n",
      "16\n",
      "25\n",
      "36\n",
      "49\n",
      "64\n",
      "81\n"
     ]
    }
   ],
   "source": [
    "for i in list1:\n",
    "    print(i**2)  #karesi"
   ]
  },
  {
   "cell_type": "code",
   "execution_count": null,
   "id": "Feg81W-OFOVJ",
   "metadata": {
    "colab": {
     "base_uri": "https://localhost:8080/"
    },
    "id": "Feg81W-OFOVJ",
    "outputId": "b198b6bf-023b-46fb-c6a9-74a6f951c31e"
   },
   "outputs": [
    {
     "name": "stdout",
     "output_type": "stream",
     "text": [
      "2\n",
      "4\n",
      "6\n",
      "8\n"
     ]
    }
   ],
   "source": [
    "#listedeki çift sayılar\n",
    "for i in list1:\n",
    "    if i %2 ==0:\n",
    "        print(i)"
   ]
  },
  {
   "cell_type": "code",
   "execution_count": null,
   "id": "xBFKZc7FFOVJ",
   "metadata": {
    "colab": {
     "base_uri": "https://localhost:8080/"
    },
    "id": "xBFKZc7FFOVJ",
    "outputId": "27cd16ad-6a98-45af-d78c-e7f6ed60067c"
   },
   "outputs": [
    {
     "name": "stdout",
     "output_type": "stream",
     "text": [
      "15\n",
      "1\n",
      "3\n",
      "5\n",
      "7\n",
      "9\n"
     ]
    }
   ],
   "source": [
    "#listedeki tek sayılar\n",
    "for i in list1:\n",
    "    if i %2 ==1:\n",
    "        print(i)"
   ]
  },
  {
   "cell_type": "code",
   "execution_count": null,
   "id": "X7fLW6RgFOVJ",
   "metadata": {
    "colab": {
     "base_uri": "https://localhost:8080/"
    },
    "id": "X7fLW6RgFOVJ",
    "outputId": "371665e1-2eca-4d05-b946-2d6962514cf8"
   },
   "outputs": [
    {
     "name": "stdout",
     "output_type": "stream",
     "text": [
      "ara toplam 1\n",
      "ara toplam 3\n",
      "ara toplam 6\n",
      "ara toplam 10\n",
      "ara toplam 15\n",
      "ara toplam 21\n",
      "ara toplam 28\n",
      "ara toplam 36\n",
      "ara toplam 45\n",
      "ara toplam 55\n",
      "genel toplam 55\n"
     ]
    }
   ],
   "source": [
    "#listedeki elemanların toplamı\n",
    "liste= [1,2,3,4,5,6,7,8,9,10]\n",
    "toplam=0\n",
    "\n",
    "for i in liste:\n",
    "    toplam=toplam+i\n",
    "    print(\"ara toplam\", toplam)\n",
    "\n",
    "print(\"genel toplam\", toplam)"
   ]
  },
  {
   "cell_type": "markdown",
   "id": "ld4n9xmsFOVJ",
   "metadata": {
    "id": "ld4n9xmsFOVJ"
   },
   "source": [
    "## range"
   ]
  },
  {
   "cell_type": "code",
   "execution_count": null,
   "id": "XnhrqO2DFOVJ",
   "metadata": {
    "colab": {
     "base_uri": "https://localhost:8080/"
    },
    "id": "XnhrqO2DFOVJ",
    "outputId": "3406f822-25bd-4720-fecf-f5d3c7add45e"
   },
   "outputs": [
    {
     "name": "stdout",
     "output_type": "stream",
     "text": [
      "range(1, 5)\n",
      "range(0, 8, 2)\n",
      "range(0, 5)\n"
     ]
    }
   ],
   "source": [
    "#range çalışma mantığı\n",
    "#range(start,stop,step)\n",
    "\n",
    "print(range(1,5))   #1'den 5 'e kadar say\n",
    "print(range(0,8,2))  #0dan 8'e kadar 2şer atlayarak say\n",
    "print(range(5))   #tek değer verilirse default olarak 0'dan başlar."
   ]
  },
  {
   "cell_type": "code",
   "execution_count": null,
   "id": "GyVzL9POFOVJ",
   "metadata": {
    "colab": {
     "base_uri": "https://localhost:8080/"
    },
    "id": "GyVzL9POFOVJ",
    "outputId": "265bdb43-9518-4972-80ed-660c7f9aef55"
   },
   "outputs": [
    {
     "data": {
      "text/plain": [
       "range(1, 10)"
      ]
     },
     "execution_count": 14,
     "metadata": {},
     "output_type": "execute_result"
    }
   ],
   "source": [
    "range(1,10)"
   ]
  },
  {
   "cell_type": "code",
   "execution_count": null,
   "id": "CLchEisBFOVJ",
   "metadata": {
    "colab": {
     "base_uri": "https://localhost:8080/"
    },
    "id": "CLchEisBFOVJ",
    "outputId": "83b1f916-e9eb-46ba-e545-21d25891c95d"
   },
   "outputs": [
    {
     "name": "stdout",
     "output_type": "stream",
     "text": [
      "0\n",
      "1\n",
      "2\n",
      "3\n",
      "4\n",
      "5\n",
      "6\n",
      "7\n",
      "8\n",
      "9\n"
     ]
    }
   ],
   "source": [
    "for i in range(0,10):\n",
    "    print(i)"
   ]
  },
  {
   "cell_type": "code",
   "execution_count": null,
   "id": "UnApHrBhFOVJ",
   "metadata": {
    "id": "UnApHrBhFOVJ"
   },
   "outputs": [],
   "source": [
    "for i in range(10):\n",
    "    print(i)"
   ]
  },
  {
   "cell_type": "code",
   "execution_count": null,
   "id": "R252kqAuFOVK",
   "metadata": {
    "colab": {
     "base_uri": "https://localhost:8080/"
    },
    "id": "R252kqAuFOVK",
    "outputId": "adcd36af-2d1a-4189-80ad-b79391dcbfad"
   },
   "outputs": [
    {
     "name": "stdout",
     "output_type": "stream",
     "text": [
      "1\n",
      "3\n",
      "6\n",
      "10\n",
      "15\n",
      "21\n",
      "28\n",
      "36\n",
      "45\n",
      "55\n",
      "genel toplam 55\n"
     ]
    }
   ],
   "source": [
    "#1den 10'a kadar olan sayıların toplamı(10 DAHİL) liste= [1,2,3,4,5,6,7,8,9,10]\n",
    "toplam=0\n",
    "\n",
    "for i in range(1,11):\n",
    "    toplam= toplam + i\n",
    "    print(toplam)\n",
    "\n",
    "print(\"genel toplam\", toplam)"
   ]
  },
  {
   "cell_type": "code",
   "execution_count": null,
   "id": "ETLlqvf-FOVK",
   "metadata": {
    "colab": {
     "base_uri": "https://localhost:8080/"
    },
    "id": "ETLlqvf-FOVK",
    "outputId": "a7a585fd-7be6-4bdb-bfa5-24808aaed0f5"
   },
   "outputs": [
    {
     "name": "stdout",
     "output_type": "stream",
     "text": [
      "35\n"
     ]
    }
   ],
   "source": [
    "# 5'den 10'a kadar olan sayıların toplamı\n",
    "toplam=0\n",
    "\n",
    "for i in range(5,10):\n",
    "    toplam= toplam + i\n",
    "    #print(toplam)\n",
    "print(toplam)"
   ]
  },
  {
   "cell_type": "code",
   "execution_count": null,
   "id": "V063Ix8hFOVK",
   "metadata": {
    "id": "V063Ix8hFOVK"
   },
   "outputs": [],
   "source": [
    "#range çalışma mantığı\n",
    "range(start,stop,step)"
   ]
  },
  {
   "cell_type": "code",
   "execution_count": null,
   "id": "aOi2wiN-FOVK",
   "metadata": {
    "id": "aOi2wiN-FOVK"
   },
   "outputs": [],
   "source": [
    "for i in range (1,10,2):\n",
    "    print(i)"
   ]
  },
  {
   "cell_type": "code",
   "execution_count": null,
   "id": "Q-WCdmi_FOVK",
   "metadata": {
    "id": "Q-WCdmi_FOVK"
   },
   "outputs": [],
   "source": [
    "for i in range (0,10,3):\n",
    "    print(i)"
   ]
  },
  {
   "cell_type": "code",
   "execution_count": null,
   "id": "Sn0vAFubFOVK",
   "metadata": {
    "id": "Sn0vAFubFOVK"
   },
   "outputs": [],
   "source": [
    "#0'dan 10'a kadar 3 ile bölünen sayılar\n",
    "for i in range (0,10):\n",
    "    if i%3==0:\n",
    "        print(i)\n",
    "\n",
    "\n"
   ]
  },
  {
   "cell_type": "code",
   "execution_count": null,
   "id": "ZDF03NV7FOVK",
   "metadata": {
    "id": "ZDF03NV7FOVK"
   },
   "outputs": [],
   "source": [
    "# 0'dan 100' kadar olan 6 ya bölünen sayılar\n",
    "\n",
    "for i in range (0,100):\n",
    "    if i%3==0 and i%2==0:\n",
    "        print(i)\n"
   ]
  },
  {
   "cell_type": "code",
   "execution_count": null,
   "id": "Tl3mv0cUFOVK",
   "metadata": {
    "id": "Tl3mv0cUFOVK"
   },
   "outputs": [],
   "source": [
    "# 0'dan 100' kadar olan 6 ya bölünen sayıları listeye bastırma\n",
    "y=[]\n",
    "\n",
    "for i in range (0,100):\n",
    "    if i%3==0 and i%2==0:\n",
    "        y.append(i)\n",
    "\n",
    "print(y)"
   ]
  },
  {
   "cell_type": "code",
   "execution_count": null,
   "id": "Wj30jGNMFOVK",
   "metadata": {
    "id": "Wj30jGNMFOVK"
   },
   "outputs": [],
   "source": [
    "notlar=[45,85,75,50]\n",
    "\n",
    "#notların ortalamasını for döngüsü yardımı ile bulunuz.(toplam / adet)"
   ]
  },
  {
   "cell_type": "code",
   "execution_count": null,
   "id": "SgH_uEAmFOVK",
   "metadata": {
    "id": "SgH_uEAmFOVK"
   },
   "outputs": [],
   "source": [
    "notlar=[45,85,75,50]\n",
    "toplam=0\n",
    "\n",
    "for i in notlar:\n",
    "    toplam= toplam + i\n",
    "print(toplam,\"genel toplam\")\n",
    "\n",
    "avr= toplam/ len(notlar)\n",
    "\n",
    "print(\"ortalama\",avr)"
   ]
  },
  {
   "cell_type": "code",
   "execution_count": null,
   "id": "QBVaf7LQFOVK",
   "metadata": {
    "id": "QBVaf7LQFOVK"
   },
   "outputs": [],
   "source": [
    "notlar=[45,85,75,50]\n",
    "\n",
    "for i in range(len(notlar)):\n",
    "    print(notlar[i])"
   ]
  },
  {
   "cell_type": "code",
   "execution_count": null,
   "id": "neCxzuG8FOVL",
   "metadata": {
    "id": "neCxzuG8FOVL"
   },
   "outputs": [],
   "source": [
    "# range(len) ile listedeki sayıların toplamı\n",
    "notlar=[45,85,75,50]\n",
    "toplam=0\n",
    "\n",
    "for i in range(len(notlar)):\n",
    "    toplam= toplam + notlar[i]\n",
    "\n",
    "print(toplam)"
   ]
  },
  {
   "cell_type": "code",
   "execution_count": null,
   "id": "YJ34NkNwFOVL",
   "metadata": {
    "id": "YJ34NkNwFOVL"
   },
   "outputs": [],
   "source": [
    "# notlar listesindeki elemanlara liste içinde 10'ar puan ekle"
   ]
  },
  {
   "cell_type": "code",
   "execution_count": null,
   "id": "W4dr5m12FOVL",
   "metadata": {
    "id": "W4dr5m12FOVL",
    "outputId": "193686e6-2315-41b4-d5d8-99f7c202b0fe"
   },
   "outputs": [
    {
     "name": "stdout",
     "output_type": "stream",
     "text": [
      "55\n",
      "95\n",
      "85\n",
      "60\n"
     ]
    }
   ],
   "source": [
    "notlar=[45,85,75,50]\n",
    "\n",
    "for i in notlar:\n",
    "    i= i + 10\n",
    "    print(i)"
   ]
  },
  {
   "cell_type": "code",
   "execution_count": null,
   "id": "dwNX865qFOVL",
   "metadata": {
    "id": "dwNX865qFOVL"
   },
   "outputs": [],
   "source": [
    "# yeni bir liste oluşturup notları ekledikten sonra notlar listesini x'e eşitledik.\n",
    "\n",
    "notlar=[45,85,75,50]\n",
    "x=[]\n",
    "\n",
    "for i in notlar:\n",
    "    i= i + 10\n",
    "    x.append(i)\n",
    "\n",
    "notlar=x #çünkü aynı listenin güncellenmesini istediğimiz için bu kodu yazdık\n",
    "print(x)"
   ]
  },
  {
   "cell_type": "code",
   "execution_count": null,
   "id": "P_PuhDsZFOVL",
   "metadata": {
    "id": "P_PuhDsZFOVL"
   },
   "outputs": [],
   "source": [
    "# notlar listesindeki elemanlara liste içinde 10'ar puan ekle"
   ]
  },
  {
   "cell_type": "code",
   "execution_count": null,
   "id": "JhT1lAfXFOVT",
   "metadata": {
    "id": "JhT1lAfXFOVT"
   },
   "outputs": [],
   "source": [
    "#ayrı bir liste oluşturmadan aynı liste içinde işlem yapıldı.\n",
    "notlar=[45,85,75,50]\n",
    "\n",
    "for i in range(len(notlar)):\n",
    "    notlar[i]=notlar[i]+10\n",
    "notlar"
   ]
  },
  {
   "cell_type": "code",
   "execution_count": null,
   "id": "nrOy3Me8FOVT",
   "metadata": {
    "id": "nrOy3Me8FOVT"
   },
   "outputs": [],
   "source": [
    "#girilen sayının asal olup olmadığını bulan kod dizisi."
   ]
  },
  {
   "cell_type": "code",
   "execution_count": null,
   "id": "nI1H8YXGFOVT",
   "metadata": {
    "id": "nI1H8YXGFOVT"
   },
   "outputs": [],
   "source": [
    "notlar=[45,85,75,50]\n"
   ]
  },
  {
   "cell_type": "code",
   "execution_count": null,
   "id": "rqNeNCylFOVT",
   "metadata": {
    "id": "rqNeNCylFOVT"
   },
   "outputs": [],
   "source": [
    "#her bir nota 30 puan eklenecek, eğer 100 u geçerse notu 100 yazacak.\n",
    "for i in notlar:\n",
    "    i= i + 30\n",
    "    if i>=100:\n",
    "        i=100\n",
    "    print(i)"
   ]
  },
  {
   "cell_type": "code",
   "execution_count": null,
   "id": "vT88YsJ_FOVT",
   "metadata": {
    "id": "vT88YsJ_FOVT"
   },
   "outputs": [],
   "source": [
    "#liste güncellendi.\n",
    "notlar=[45,85,75,50]\n",
    "\n",
    "for i in range(len(notlar)):\n",
    "    notlar[i] = notlar[i]+30\n",
    "    if notlar[i] >=100:\n",
    "        notlar[i]=100\n",
    "\n",
    "print(notlar)"
   ]
  },
  {
   "cell_type": "markdown",
   "id": "eG4EVCsOFOVT",
   "metadata": {
    "id": "eG4EVCsOFOVT"
   },
   "source": [
    "## break and continiue"
   ]
  },
  {
   "cell_type": "code",
   "execution_count": null,
   "id": "5TIC49IuFOVT",
   "metadata": {
    "id": "5TIC49IuFOVT",
    "outputId": "ad0d8173-52c5-444d-f5d0-f97fbb10b2d6"
   },
   "outputs": [
    {
     "name": "stdout",
     "output_type": "stream",
     "text": [
      "2\n",
      "3\n",
      "4\n",
      "5\n",
      "100\n",
      "bulundu\n"
     ]
    }
   ],
   "source": [
    "#break fonksiyonu - belli bir sınıra veya koşula geldiği zaman \"dur\" demek\n",
    "\n",
    "#listedeki 100 sayısını bulduğunda dur ve bulundu\n",
    "list1=[2,3,4,5,100,8,7]\n",
    "\n",
    "for e in list1:\n",
    "    print(e)\n",
    "    if e==100:\n",
    "        print(\"bulundu\")\n",
    "        break"
   ]
  },
  {
   "cell_type": "code",
   "execution_count": null,
   "id": "rbhZVi_TFOVT",
   "metadata": {
    "id": "rbhZVi_TFOVT"
   },
   "outputs": [],
   "source": [
    "#continue fonksiyonu - koşul veya kıyas sağlandığında bile devam et demek\n",
    "\n",
    "list1=[2,3,4,5,100,8,7]\n",
    "\n",
    "for e in list1:\n",
    "    print(e)\n",
    "    if e==100:\n",
    "        print(\"bulundu\")\n",
    "        continue\n",
    "\n"
   ]
  },
  {
   "cell_type": "markdown",
   "id": "-h4m5OlKFOVT",
   "metadata": {
    "id": "-h4m5OlKFOVT"
   },
   "source": [
    "## While"
   ]
  },
  {
   "cell_type": "code",
   "execution_count": null,
   "id": "Sz8gACiWFOVT",
   "metadata": {
    "id": "Sz8gACiWFOVT"
   },
   "outputs": [],
   "source": [
    "# while fonksiyonunda False ile karşılana kadar döngü devam eder.\n",
    "i=0\n",
    "\n",
    "while i<3:\n",
    "    print(i)\n",
    "    i= i+1\n"
   ]
  },
  {
   "cell_type": "code",
   "execution_count": null,
   "id": "Gx9k7A4MFOVT",
   "metadata": {
    "id": "Gx9k7A4MFOVT"
   },
   "outputs": [],
   "source": [
    "#for döngüsü\n",
    "for i in range(3):\n",
    "    print(i)"
   ]
  },
  {
   "cell_type": "code",
   "execution_count": null,
   "id": "LhD38bIEFOVU",
   "metadata": {
    "id": "LhD38bIEFOVU"
   },
   "outputs": [],
   "source": [
    "#for ile 10!a kadar sayıların toplamı\n",
    "toplam=0\n",
    "\n",
    "for i in range(10):\n",
    "    toplam= toplam + i\n",
    "    print(toplam)\n",
    "\n",
    "print(\"genel toplam\", toplam)"
   ]
  },
  {
   "cell_type": "code",
   "execution_count": null,
   "id": "tKVrg2LZFOVU",
   "metadata": {
    "id": "tKVrg2LZFOVU"
   },
   "outputs": [],
   "source": [
    "#while ile 10'a kadar olan sayıların toplamı"
   ]
  },
  {
   "cell_type": "code",
   "execution_count": null,
   "id": "PF37Hz3AFOVU",
   "metadata": {
    "id": "PF37Hz3AFOVU"
   },
   "outputs": [],
   "source": [
    "toplam=0\n",
    "x=0\n",
    "\n",
    "while x<10:\n",
    "    toplam= toplam + x\n",
    "    #print(toplam)\n",
    "    x=x+1\n",
    "\n",
    "print(\"genel toplam\", toplam)"
   ]
  },
  {
   "cell_type": "code",
   "execution_count": null,
   "id": "CTrXbbWeFOVU",
   "metadata": {
    "id": "CTrXbbWeFOVU",
    "outputId": "a53e492c-4850-4b44-c048-b7f9f6096677"
   },
   "outputs": [
    {
     "name": "stdout",
     "output_type": "stream",
     "text": [
      "5 ve katları 5\n",
      "5 ve katları 10\n",
      "5 ve katları 15\n",
      "5 ve katları 20\n",
      "5 ve katları 25\n",
      "5 ve katları 30\n",
      "5 ve katları 35\n",
      "5 ve katları 40\n"
     ]
    }
   ],
   "source": [
    "#40'a kadar olan 5'in katları\n",
    "i=0\n",
    "\n",
    "while i<40:\n",
    "    i=i+5\n",
    "    print(\"5 ve katları\",i)"
   ]
  },
  {
   "cell_type": "code",
   "execution_count": null,
   "id": "bUvMxYtGFOVU",
   "metadata": {
    "id": "bUvMxYtGFOVU"
   },
   "outputs": [],
   "source": [
    "#while ile listenin elemanlarını bastırma\n",
    "x=0\n",
    "\n",
    "liste1=[45,87,32,21]\n",
    "\n",
    "while x<(len(liste1)): #listenin eleman uzunluğu kadar dönsün\n",
    "\n",
    "    print(liste1[x])\n",
    "    x= x+1\n",
    "\n"
   ]
  },
  {
   "cell_type": "code",
   "execution_count": null,
   "id": "6PLNlSyFFOVU",
   "metadata": {
    "id": "6PLNlSyFFOVU"
   },
   "outputs": [],
   "source": [
    "#10'a kadar olan çift doğal sayılar"
   ]
  },
  {
   "cell_type": "code",
   "execution_count": null,
   "id": "6Uj0MqURFOVU",
   "metadata": {
    "id": "6Uj0MqURFOVU"
   },
   "outputs": [],
   "source": [
    "x=0\n",
    "\n",
    "while x<10:\n",
    "    if x%2==0:\n",
    "        print(x)\n",
    "    x=x+1\n",
    "\n"
   ]
  },
  {
   "cell_type": "code",
   "execution_count": null,
   "id": "UyRhlIDnFOVU",
   "metadata": {
    "id": "UyRhlIDnFOVU"
   },
   "outputs": [],
   "source": [
    "#10'a kadar olan çift doğal sayıların karelerinin toplamı"
   ]
  },
  {
   "cell_type": "code",
   "execution_count": null,
   "id": "wOlppbT0FOVU",
   "metadata": {
    "id": "wOlppbT0FOVU"
   },
   "outputs": [],
   "source": [
    "x=0\n",
    "toplam=0\n",
    "\n",
    "while x<10:\n",
    "    if x%2==0:\n",
    "        toplam = toplam + x**2\n",
    "    x=x+1\n",
    "\n",
    "print(toplam)"
   ]
  },
  {
   "cell_type": "code",
   "execution_count": null,
   "id": "BvN_J_-RFOVU",
   "metadata": {
    "id": "BvN_J_-RFOVU"
   },
   "outputs": [],
   "source": [
    "# Kullancıdan pozitif bir sayı bekleyen, pozitifi de gördüğü an bastıran,\n",
    "#negatif sayı girildikçe bir daha soran yapı kuralım."
   ]
  },
  {
   "cell_type": "code",
   "execution_count": null,
   "id": "ePXcgDoLFOVV",
   "metadata": {
    "id": "ePXcgDoLFOVV"
   },
   "outputs": [],
   "source": [
    "num= int(input(\"bir sayı giriniz: \"))\n",
    "\n",
    "while num<0:\n",
    "    print(\"sayı negatif, lütfen tekrar deneyiniz\")\n",
    "\n",
    "    num=int(input(\"bir sayı giriniz:\"))\n",
    "\n",
    "print(\"bravo, pozitif sayı\", num)"
   ]
  },
  {
   "cell_type": "code",
   "execution_count": null,
   "id": "xm4HFuLzFOVV",
   "metadata": {
    "id": "xm4HFuLzFOVV"
   },
   "outputs": [],
   "source": [
    "#girilen sayı negatif ise çalışmaya devam etsin, pozitif sayının da tek mi çift olduğunu söylesin"
   ]
  },
  {
   "cell_type": "code",
   "execution_count": null,
   "id": "QxJRUr87FOVV",
   "metadata": {
    "id": "QxJRUr87FOVV"
   },
   "outputs": [],
   "source": [
    "num= int(input(\"bir sayı giriniz: \"))\n",
    "\n",
    "while num<0:\n",
    "    print(\"sayı negatif, lütfen tekrar deneyiniz\")\n",
    "    num=int(input(\"bir sayı giriniz:\"))\n",
    "    #continue\n",
    "if num%2==0:\n",
    "    print(\"çift\")\n",
    "else:\n",
    "    print(\"tek\")"
   ]
  },
  {
   "cell_type": "code",
   "execution_count": null,
   "id": "CYxJFIUJFOVV",
   "metadata": {
    "id": "CYxJFIUJFOVV"
   },
   "outputs": [],
   "source": [
    "#ödevler\n",
    "\n",
    "#1- girilen bir sayının asal olup olmadığını veren döngü\n",
    "#2- girilen sayının faktöriyelini alan döngü\n",
    "#3- kullanıcıdan 2 sayı istenicek. Verilen 2. sayı 1. sayının kuvveti şeklinde yazılacak.\n",
    "#4- listeki 100 değerinin listede kaçıncı indiste olduğunu bulan döngü (while - for)"
   ]
  },
  {
   "cell_type": "code",
   "execution_count": null,
   "id": "_KfTpPzWFOVV",
   "metadata": {
    "id": "_KfTpPzWFOVV"
   },
   "outputs": [],
   "source": [
    "anahtar = 1\n",
    "\n",
    "while anahtar== 1:\n",
    "    soru = input(\"Yapmak istediğiniz işlemin numarasını girin (Çıkmak için q): \")\n",
    "\n",
    "    if soru == \"q\":\n",
    "        print(\"çıkılıyor...\")\n",
    "        anahtar = 0"
   ]
  },
  {
   "cell_type": "code",
   "execution_count": null,
   "id": "h_RxF4mwFOVV",
   "metadata": {
    "id": "h_RxF4mwFOVV",
    "outputId": "500afdee-3218-41e4-a9a8-ebc49e96a804"
   },
   "outputs": [
    {
     "name": "stdout",
     "output_type": "stream",
     "text": [
      "Yapmak istediğiniz işlemin numarasını girin (Çıkmak için q): 5\n",
      "Yapmak istediğiniz işlemin numarasını girin (Çıkmak için q): 5\n",
      "Yapmak istediğiniz işlemin numarasını girin (Çıkmak için q): 5\n",
      "Yapmak istediğiniz işlemin numarasını girin (Çıkmak için q): 5\n",
      "Yapmak istediğiniz işlemin numarasını girin (Çıkmak için q): q\n",
      "çıkılıyor...\n"
     ]
    }
   ],
   "source": [
    "while True:\n",
    "    soru = input(\"Yapmak istediğiniz işlemin numarasını girin (Çıkmak için q): \")\n",
    "\n",
    "    if soru == \"q\":\n",
    "        print(\"çıkılıyor...\")\n",
    "        #False\n",
    "        break"
   ]
  },
  {
   "cell_type": "code",
   "execution_count": null,
   "id": "YL-WscySFOVV",
   "metadata": {
    "id": "YL-WscySFOVV"
   },
   "outputs": [],
   "source": []
  }
 ],
 "metadata": {
  "colab": {
   "provenance": [],
   "toc_visible": true
  },
  "kernelspec": {
   "display_name": "Python 3 (ipykernel)",
   "language": "python",
   "name": "python3"
  },
  "language_info": {
   "codemirror_mode": {
    "name": "ipython",
    "version": 3
   },
   "file_extension": ".py",
   "mimetype": "text/x-python",
   "name": "python",
   "nbconvert_exporter": "python",
   "pygments_lexer": "ipython3",
   "version": "3.9.0"
  }
 },
 "nbformat": 4,
 "nbformat_minor": 5
}
