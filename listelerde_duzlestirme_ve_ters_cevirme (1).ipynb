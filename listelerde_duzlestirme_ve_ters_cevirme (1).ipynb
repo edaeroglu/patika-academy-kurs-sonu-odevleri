{
 "cells": [
  {
   "cell_type": "markdown",
   "id": "8c64378d-3578-4d62-8db7-afe4df9eb471",
   "metadata": {},
   "source": [
    "1- Bir listeyi düzleştiren (flatten) fonksiyon yazın. Elemanları birden çok katmanlı listelerden ([[3],2] gibi) oluşabileceği gibi, non-scalar verilerden de oluşabilir. Örnek olarak:\n",
    "\n",
    "input: [[1,'a',['cat'],2],[[[3]],'dog'],4,5]\n",
    "\n",
    "output: [1,'a','cat',2,3,'dog',4,5]"
   ]
  },
  {
   "cell_type": "code",
   "execution_count": 17,
   "id": "bd8fff29-a7d0-403a-857c-cea8a305fbfd",
   "metadata": {},
   "outputs": [
    {
     "name": "stdout",
     "output_type": "stream",
     "text": [
      "[1, 'a', 'cat', 2, 3, 'dog', 4, 5]\n"
     ]
    }
   ],
   "source": [
    "def flatten(lst):\n",
    "    flat_list = []\n",
    "    for item in lst:\n",
    "        if isinstance(item, list):  \n",
    "            flat_list.extend(flatten(item))  \n",
    "        else:\n",
    "            flat_list.append(item)  \n",
    "    return flat_list\n",
    "\n",
    "nested_list = [[1,'a',['cat'],2],[[[3]],'dog'],4,5]\n",
    "flat_list = flatten(nested_list)\n",
    "print(flat_list)"
   ]
  },
  {
   "cell_type": "markdown",
   "id": "aff943f0-2c5d-488c-a9ea-ce15ef5e9f0f",
   "metadata": {},
   "source": [
    "2- Verilen listenin içindeki elemanları tersine döndüren bir fonksiyon yazın. Eğer listenin içindeki elemanlar da liste içeriyorsa onların elemanlarını da tersine döndürün. Örnek olarak:\n",
    "\n",
    "input: [[1, 2], [3, 4], [5, 6, 7]]\n",
    "\n",
    "output: [[[7, 6, 5], [4, 3], [2, 1]]"
   ]
  },
  {
   "cell_type": "code",
   "execution_count": 18,
   "id": "5ea42356-e16f-47d5-a06c-13bb424875a2",
   "metadata": {},
   "outputs": [
    {
     "data": {
      "text/plain": [
       "[[7, 6, 5], [4, 3], [2, 1]]"
      ]
     },
     "execution_count": 18,
     "metadata": {},
     "output_type": "execute_result"
    }
   ],
   "source": [
    "l = [[1, 2], [3, 4], [5, 6, 7]]\n",
    "for i in l:\n",
    "    if type(i) == list:\n",
    "        i.reverse()\n",
    "        i\n",
    "l.reverse()\n",
    "l"
   ]
  }
 ],
 "metadata": {
  "kernelspec": {
   "display_name": "Python 3 (ipykernel)",
   "language": "python",
   "name": "python3"
  },
  "language_info": {
   "codemirror_mode": {
    "name": "ipython",
    "version": 3
   },
   "file_extension": ".py",
   "mimetype": "text/x-python",
   "name": "python",
   "nbconvert_exporter": "python",
   "pygments_lexer": "ipython3",
   "version": "3.9.0"
  }
 },
 "nbformat": 4,
 "nbformat_minor": 5
}
